{
  "nbformat": 4,
  "nbformat_minor": 0,
  "metadata": {
    "colab": {
      "provenance": [],
      "authorship_tag": "ABX9TyNCCv3G7HJppl3nADNVdBvD",
      "include_colab_link": true
    },
    "kernelspec": {
      "name": "python3",
      "display_name": "Python 3"
    },
    "language_info": {
      "name": "python"
    }
  },
  "cells": [
    {
      "cell_type": "markdown",
      "metadata": {
        "id": "view-in-github",
        "colab_type": "text"
      },
      "source": [
        "<a href=\"https://colab.research.google.com/github/gregoryog/PrimeirosPassos/blob/main/helloworld_notas.ipynb\" target=\"_parent\"><img src=\"https://colab.research.google.com/assets/colab-badge.svg\" alt=\"Open In Colab\"/></a>"
      ]
    },
    {
      "cell_type": "code",
      "source": [
        "# hello world é o começo de tudo!!\n",
        "print (\"hello worold\")\n"
      ],
      "metadata": {
        "colab": {
          "base_uri": "https://localhost:8080/"
        },
        "id": "jM95TJGIyxrH",
        "outputId": "0f1dea1c-bb62-4b43-eaab-fdfeecce987d"
      },
      "execution_count": 1,
      "outputs": [
        {
          "output_type": "stream",
          "name": "stdout",
          "text": [
            "hello worold\n"
          ]
        }
      ]
    },
    {
      "cell_type": "code",
      "source": [
        "x = 10\n",
        "nome ='aluno'\n",
        "nota = 8.75\n",
        "fez_inscricao = True"
      ],
      "metadata": {
        "id": "3juj3Ukd0CPy"
      },
      "execution_count": 2,
      "outputs": []
    },
    {
      "cell_type": "code",
      "source": [
        "print (type(fez_inscricao))\n"
      ],
      "metadata": {
        "colab": {
          "base_uri": "https://localhost:8080/"
        },
        "id": "VuePb3bp0j9j",
        "outputId": "7062ae4b-2668-44ef-fd1f-5ff2b178e700"
      },
      "execution_count": 3,
      "outputs": [
        {
          "output_type": "stream",
          "name": "stdout",
          "text": [
            "<class 'bool'>\n"
          ]
        }
      ]
    },
    {
      "cell_type": "code",
      "source": [
        "Nome = input(\"Digite um nome :\")"
      ],
      "metadata": {
        "colab": {
          "base_uri": "https://localhost:8080/"
        },
        "id": "bzaTWcie1nHm",
        "outputId": "0081a8fb-cde4-4a09-ca75-91468c267f86"
      },
      "execution_count": 14,
      "outputs": [
        {
          "name": "stdout",
          "output_type": "stream",
          "text": [
            "Digite um nome :gregoryog\n"
          ]
        }
      ]
    },
    {
      "cell_type": "code",
      "source": [
        "print (nome)"
      ],
      "metadata": {
        "colab": {
          "base_uri": "https://localhost:8080/"
        },
        "id": "-j6_OM8P2jbR",
        "outputId": "35b59a37-6e9e-4269-ec0e-f74a03efb1b5"
      },
      "execution_count": 16,
      "outputs": [
        {
          "output_type": "stream",
          "name": "stdout",
          "text": [
            "aluno\n"
          ]
        }
      ]
    },
    {
      "cell_type": "code",
      "source": [
        "#formatadores de caracteres\n",
        "print(f\"Olá %s, bem vindo a disciplina de programação. Parabéns pelo seu primeiro hello world\" % (nome))"
      ],
      "metadata": {
        "colab": {
          "base_uri": "https://localhost:8080/"
        },
        "id": "J2vgeQXY38i-",
        "outputId": "0956c14f-0f1d-4293-f8b3-4f802538937e"
      },
      "execution_count": 17,
      "outputs": [
        {
          "output_type": "stream",
          "name": "stdout",
          "text": [
            "Olá aluno, bem vindo a disciplina de programação. Parabéns pelo seu primeiro hello world\n"
          ]
        }
      ]
    },
    {
      "cell_type": "code",
      "source": [
        "#F-string\n",
        "print(f\"Olá (Nome), bem vindo a disciplina de programação.Parabéns pelo seu primeiro hello world\")\n"
      ],
      "metadata": {
        "colab": {
          "base_uri": "https://localhost:8080/"
        },
        "id": "rXUfWMiu4mrw",
        "outputId": "dfe469d0-7d2f-4ca2-8a3d-8590ec163925"
      },
      "execution_count": 18,
      "outputs": [
        {
          "output_type": "stream",
          "name": "stdout",
          "text": [
            "Olá (Nome), bem vindo a disciplina de programação.Parabéns pelo seu primeiro hello world\n"
          ]
        }
      ]
    },
    {
      "cell_type": "code",
      "source": [
        "Nota_1 = int(input(\"Digite a primeira nota:\"))\n",
        "Nota_2 = int(input(\"Digite a segunda nota :\"))\n",
        "Nota_3 = int(input(\"Digite a terceira nota :\"))\n",
        "Nota_4 = int(input(\"Digite a quarta nota :\"))\n",
        "#Observe que ultilizamos a função int(), pois sem ela, o python entenderia que as notas seriam string"
      ],
      "metadata": {
        "colab": {
          "base_uri": "https://localhost:8080/"
        },
        "id": "qPvm0_kN5Axa",
        "outputId": "00c3d18a-f5fd-4fc4-e8c9-3802463ac060"
      },
      "execution_count": 19,
      "outputs": [
        {
          "name": "stdout",
          "output_type": "stream",
          "text": [
            "Digite a primeira nota:1\n",
            "Digite a segunda nota :7\n",
            "Digite a terceira nota :5\n",
            "Digite a quarta nota :4\n"
          ]
        }
      ]
    },
    {
      "cell_type": "code",
      "source": [
        "#condição para a aprovação do aluno.\n",
        "media = (Nota_1+Nota_2+Nota_3+Nota_4)/4\n",
        "if media >= 6:\n",
        "     situacao = \"Aprovado\"\n",
        "else :\n",
        "     situacao = \"Reprovado\"\n"
      ],
      "metadata": {
        "id": "JnWCwpo96Unf"
      },
      "execution_count": 20,
      "outputs": []
    },
    {
      "cell_type": "code",
      "source": [
        "#dadas as notas mostramos a média final e a situação do aluno.\n",
        "print(f\"A média das notas é: {media}\")\n",
        "print(f\"Situação do aluno: {situacao}\")"
      ],
      "metadata": {
        "colab": {
          "base_uri": "https://localhost:8080/"
        },
        "id": "_NpimHJj7h3G",
        "outputId": "c13c265f-1c19-49c4-99ee-6d6fc749bd55"
      },
      "execution_count": 23,
      "outputs": [
        {
          "output_type": "stream",
          "name": "stdout",
          "text": [
            "A média das notas é: 4.25\n",
            "Situação do aluno: Reprovado\n"
          ]
        }
      ]
    }
  ]
}