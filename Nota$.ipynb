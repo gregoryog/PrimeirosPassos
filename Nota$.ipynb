{
  "nbformat": 4,
  "nbformat_minor": 0,
  "metadata": {
    "colab": {
      "provenance": [],
      "authorship_tag": "ABX9TyOwDP6yb+iTO51w356O5+Wu",
      "include_colab_link": true
    },
    "kernelspec": {
      "name": "python3",
      "display_name": "Python 3"
    },
    "language_info": {
      "name": "python"
    }
  },
  "cells": [
    {
      "cell_type": "markdown",
      "metadata": {
        "id": "view-in-github",
        "colab_type": "text"
      },
      "source": [
        "<a href=\"https://colab.research.google.com/github/gregoryog/PrimeirosPassos/blob/main/Nota%24.ipynb\" target=\"_parent\"><img src=\"https://colab.research.google.com/assets/colab-badge.svg\" alt=\"Open In Colab\"/></a>"
      ]
    },
    {
      "cell_type": "code",
      "source": [
        "# Cadastro de Notas:\n",
        "Primeira_Nota = 7\n",
        "Segunda_Nota = 8\n",
        "Terceira_Nota = 6\n",
        "Quarta_Nota = 9"
      ],
      "metadata": {
        "id": "zXEpHzOSkBLb"
      },
      "execution_count": 20,
      "outputs": []
    },
    {
      "cell_type": "code",
      "source": [
        "# Media para aprovação do aluno:\n",
        "Média_Aprovação = (Primeira_Nota + Segunda_Nota + Terceira_Nota + Quarta_Nota) /4\n",
        "if Média_Aprovação >=7:\n",
        "    situação = \"Aprovado\"\n",
        "    print('Aprovado')\n",
        "else:\n",
        "    situação = \"Reprovado\"\n",
        "    print('Reprovado')"
      ],
      "metadata": {
        "colab": {
          "base_uri": "https://localhost:8080/"
        },
        "id": "zxUCyMyvtxV-",
        "outputId": "65061de5-5124-45f1-8771-a7b4e6a59caa"
      },
      "execution_count": 21,
      "outputs": [
        {
          "output_type": "stream",
          "name": "stdout",
          "text": [
            "Aprovado\n"
          ]
        }
      ]
    },
    {
      "cell_type": "code",
      "source": [
        "# Nota Final e Situação do Aluno.\n",
        "print(f\"A média das notas é: {Média_Aprovação}\")\n",
        "print(f\"situação do aluno: {situação}\")"
      ],
      "metadata": {
        "colab": {
          "base_uri": "https://localhost:8080/"
        },
        "id": "8C0nDv9Ov0xX",
        "outputId": "b68a3451-10d5-4a7f-caa0-53e695a13045"
      },
      "execution_count": 22,
      "outputs": [
        {
          "output_type": "stream",
          "name": "stdout",
          "text": [
            "A média das notas é: 7.5\n",
            "situação do aluno: Aprovado\n"
          ]
        }
      ]
    }
  ]
}